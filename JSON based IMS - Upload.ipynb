{
 "cells": [
  {
   "cell_type": "markdown",
   "id": "51e2e60a",
   "metadata": {},
   "source": [
    "# Inventory"
   ]
  },
  {
   "cell_type": "code",
   "execution_count": 25,
   "id": "b2b99050",
   "metadata": {},
   "outputs": [],
   "source": [
    "record = { 1000:{'Product_name':'Bed', 'Product_category':'Furniture', 'Product_price':7000, 'Product_quantity':'500', 'Product_discount':'5%'},\n",
    "           1001:{'Product_name':'Dining Set', 'Product_category':'Furniture', 'Product_price':15000, 'Product_quantity':'500', 'Product_discount':'5%'},\n",
    "           1002:{'Product_name':'Sofa', 'Product_category':'Furniture', 'Product_price':16000, 'Product_quantity':'500', 'Product_discount':'5%'},\n",
    "           1003:{'Product_name':'Dressing Table', 'Product_category':'Furniture', 'Product_price':4000, 'Product_quantity':'500', 'Product_discount':'5%'},\n",
    "           1004:{'Product_name':'Wall Shelf', 'Product_category':'Furniture', 'Product_price':500, 'Product_quantity':'500', 'Product_discount':'5%'},\n",
    "           1005:{'Product_name':'Chair', 'Product_category':'Furniture', 'Product_price':600, 'Product_quantity':'500', 'Product_discount':'5%'},\n",
    "           1006:{'Product_name':'Lipstick', 'Product_category':'Beauty', 'Product_price':500, 'Product_quantity':'500', 'Product_discount':'5%'},\n",
    "           1007:{'Product_name':'Nail Lacquer', 'Product_category':'Beauty', 'Product_price':100, 'Product_quantity':'500', 'Product_discount':'5%'},\n",
    "           1008:{'Product_name':'Face Cream', 'Product_category':'Beauty', 'Product_price':600, 'Product_quantity':'500', 'Product_discount':'5%'},\n",
    "           1009:{'Product_name':'Eye Liner', 'Product_category':'Beauty', 'Product_price':250, 'Product_quantity':'500', 'Product_discount':'5%'},\n",
    "           10010:{'Product_name':'Concealer', 'Product_category':'Beauty', 'Product_price':300, 'Product_quantity':'500', 'Product_discount':'5%'},\n",
    "           10011:{'Product_name':'Football Helmet', 'Product_category':'Sports', 'Product_price':3000, 'Product_quantity':'500', 'Product_discount':'5%'},\n",
    "           10012:{'Product_name':'Elbow Pads', 'Product_category':'Sports', 'Product_price':200, 'Product_quantity':'500', 'Product_discount':'5%'},\n",
    "           10013:{'Product_name':'Mouthguards', 'Product_category':'Sports', 'Product_price':200, 'Product_quantity':'500', 'Product_discount':'5%'},\n",
    "           10014:{'Product_name':'Badminton Racquet', 'Product_category':'Sports', 'Product_price':2000, 'Product_quantity':'500', 'Product_discount':'5%'},\n",
    "           10015:{'Product_name':'Cricket Bat', 'Product_category':'Sports', 'Product_price':400, 'Product_quantity':'500', 'Product_discount':'5%'},\n",
    "           10016:{'Product_name':'Refrigerator', 'Product_category':'Electronics', 'Product_price':11000, 'Product_quantity':'500', 'Product_discount':'5%'},\n",
    "           10017:{'Product_name':'Air Conditioner', 'Product_category':'Electronics', 'Product_price':25000, 'Product_quantity':'500', 'Product_discount':'5%'},\n",
    "           10018:{'Product_name':'Washing Machine', 'Product_category':'Electronics', 'Product_price':10000, 'Product_quantity':'500', 'Product_discount':'5%'},\n",
    "           10019:{'Product_name':'Keyboard', 'Product_category':'Electronics', 'Product_price':600, 'Product_quantity':'500', 'Product_discount':'5%'},\n",
    "           10020:{'Product_name':'Earbuds', 'Product_category':'Electronics', 'Product_price':1500, 'Product_quantity':'500', 'Product_discount':'5%'},\n",
    "           10021:{'Product_name':'Dark Chocolate', 'Product_category':'Grocery', 'Product_price':200, 'Product_quantity':'500', 'Product_discount':'5%'},\n",
    "           10022:{'Product_name':'Peanut Butter', 'Product_category':'Grocery', 'Product_price':500, 'Product_quantity':'500', 'Product_discount':'5%'},\n",
    "           10023:{'Product_name':'Honey', 'Product_category':'Grocery', 'Product_price':500, 'Product_quantity':'500', 'Product_discount':'5%'},\n",
    "           10024:{'Product_name':'Biscuit', 'Product_category':'Grocery', 'Product_price':50, 'Product_quantity':'500', 'Product_discount':'5%'},\n",
    "           10025:{'Product_name':'Jackfruit Flour', 'Product_category':'Grocery', 'Product_price':400, 'Product_quantity':'500', 'Product_discount':'5%'},\n",
    "           10026:{'Product_name':'Jeans', 'Product_category':'Fashion', 'Product_price':1000, 'Product_quantity':'500', 'Product_discount':'5%'},\n",
    "           10027:{'Product_name':'Shoes', 'Product_category':'Fashion', 'Product_price':2500, 'Product_quantity':'500', 'Product_discount':'5%'},\n",
    "           10028:{'Product_name':'Watch', 'Product_category':'Fashion', 'Product_price':2500, 'Product_quantity':'500', 'Product_discount':'5%'},\n",
    "           10029:{'Product_name':'Jewellery', 'Product_category':'Fashion', 'Product_price':500, 'Product_quantity':'500', 'Product_discount':'5%'},\n",
    "           10030:{'Product_name':'Innerwear', 'Product_category':'Fashion', 'Product_price':300, 'Product_quantity':'500', 'Product_discount':'5%'},          \n",
    "}"
   ]
  },
  {
   "cell_type": "markdown",
   "id": "989aec77",
   "metadata": {},
   "source": [
    "# Json"
   ]
  },
  {
   "cell_type": "code",
   "execution_count": 26,
   "id": "9f0b2091",
   "metadata": {},
   "outputs": [],
   "source": [
    "import json"
   ]
  },
  {
   "cell_type": "code",
   "execution_count": 27,
   "id": "03e35d8a",
   "metadata": {},
   "outputs": [],
   "source": [
    "js = json.dumps(record)"
   ]
  },
  {
   "cell_type": "code",
   "execution_count": 28,
   "id": "3941bdd8",
   "metadata": {},
   "outputs": [],
   "source": [
    "fd = open('inventory.json', 'w')\n",
    "fd.write(js)\n",
    "fd.close()"
   ]
  },
  {
   "cell_type": "code",
   "execution_count": 29,
   "id": "bb124b6f",
   "metadata": {},
   "outputs": [
    {
     "name": "stdout",
     "output_type": "stream",
     "text": [
      "{\"1000\": {\"Product_name\": \"Bed\", \"Product_category\": \"Furniture\", \"Product_price\": 7000, \"Product_quantity\": \"500\", \"Product_discount\": \"5%\"}, \"1001\": {\"Product_name\": \"Dining Set\", \"Product_category\": \"Furniture\", \"Product_price\": 15000, \"Product_quantity\": \"500\", \"Product_discount\": \"5%\"}, \"1002\": {\"Product_name\": \"Sofa\", \"Product_category\": \"Furniture\", \"Product_price\": 16000, \"Product_quantity\": \"500\", \"Product_discount\": \"5%\"}, \"1003\": {\"Product_name\": \"Dressing Table\", \"Product_category\": \"Furniture\", \"Product_price\": 4000, \"Product_quantity\": \"500\", \"Product_discount\": \"5%\"}, \"1004\": {\"Product_name\": \"Wall Shelf\", \"Product_category\": \"Furniture\", \"Product_price\": 500, \"Product_quantity\": \"500\", \"Product_discount\": \"5%\"}, \"1005\": {\"Product_name\": \"Chair\", \"Product_category\": \"Furniture\", \"Product_price\": 600, \"Product_quantity\": \"500\", \"Product_discount\": \"5%\"}, \"1006\": {\"Product_name\": \"Lipstick\", \"Product_category\": \"Beauty\", \"Product_price\": 500, \"Product_quantity\": \"500\", \"Product_discount\": \"5%\"}, \"1007\": {\"Product_name\": \"Nail Lacquer\", \"Product_category\": \"Beauty\", \"Product_price\": 100, \"Product_quantity\": \"500\", \"Product_discount\": \"5%\"}, \"1008\": {\"Product_name\": \"Face Cream\", \"Product_category\": \"Beauty\", \"Product_price\": 600, \"Product_quantity\": \"500\", \"Product_discount\": \"5%\"}, \"1009\": {\"Product_name\": \"Eye Liner\", \"Product_category\": \"Beauty\", \"Product_price\": 250, \"Product_quantity\": \"500\", \"Product_discount\": \"5%\"}, \"10010\": {\"Product_name\": \"Concealer\", \"Product_category\": \"Beauty\", \"Product_price\": 300, \"Product_quantity\": \"500\", \"Product_discount\": \"5%\"}, \"10011\": {\"Product_name\": \"Football Helmet\", \"Product_category\": \"Sports\", \"Product_price\": 3000, \"Product_quantity\": \"500\", \"Product_discount\": \"5%\"}, \"10012\": {\"Product_name\": \"Elbow Pads\", \"Product_category\": \"Sports\", \"Product_price\": 200, \"Product_quantity\": \"500\", \"Product_discount\": \"5%\"}, \"10013\": {\"Product_name\": \"Mouthguards\", \"Product_category\": \"Sports\", \"Product_price\": 200, \"Product_quantity\": \"500\", \"Product_discount\": \"5%\"}, \"10014\": {\"Product_name\": \"Badminton Racquet\", \"Product_category\": \"Sports\", \"Product_price\": 2000, \"Product_quantity\": \"500\", \"Product_discount\": \"5%\"}, \"10015\": {\"Product_name\": \"Cricket Bat\", \"Product_category\": \"Sports\", \"Product_price\": 400, \"Product_quantity\": \"500\", \"Product_discount\": \"5%\"}, \"10016\": {\"Product_name\": \"Refrigerator\", \"Product_category\": \"Electronics\", \"Product_price\": 11000, \"Product_quantity\": \"500\", \"Product_discount\": \"5%\"}, \"10017\": {\"Product_name\": \"Air Conditioner\", \"Product_category\": \"Electronics\", \"Product_price\": 25000, \"Product_quantity\": \"500\", \"Product_discount\": \"5%\"}, \"10018\": {\"Product_name\": \"Washing Machine\", \"Product_category\": \"Electronics\", \"Product_price\": 10000, \"Product_quantity\": \"500\", \"Product_discount\": \"5%\"}, \"10019\": {\"Product_name\": \"Keyboard\", \"Product_category\": \"Electronics\", \"Product_price\": 600, \"Product_quantity\": \"500\", \"Product_discount\": \"5%\"}, \"10020\": {\"Product_name\": \"Earbuds\", \"Product_category\": \"Electronics\", \"Product_price\": 1500, \"Product_quantity\": \"500\", \"Product_discount\": \"5%\"}, \"10021\": {\"Product_name\": \"Dark Chocolate\", \"Product_category\": \"Grocery\", \"Product_price\": 200, \"Product_quantity\": \"500\", \"Product_discount\": \"5%\"}, \"10022\": {\"Product_name\": \"Peanut Butter\", \"Product_category\": \"Grocery\", \"Product_price\": 500, \"Product_quantity\": \"500\", \"Product_discount\": \"5%\"}, \"10023\": {\"Product_name\": \"Honey\", \"Product_category\": \"Grocery\", \"Product_price\": 500, \"Product_quantity\": \"500\", \"Product_discount\": \"5%\"}, \"10024\": {\"Product_name\": \"Biscuit\", \"Product_category\": \"Grocery\", \"Product_price\": 50, \"Product_quantity\": \"500\", \"Product_discount\": \"5%\"}, \"10025\": {\"Product_name\": \"Jackfruit Flour\", \"Product_category\": \"Grocery\", \"Product_price\": 400, \"Product_quantity\": \"500\", \"Product_discount\": \"5%\"}, \"10026\": {\"Product_name\": \"Jeans\", \"Product_category\": \"Fashion\", \"Product_price\": 1000, \"Product_quantity\": \"500\", \"Product_discount\": \"5%\"}, \"10027\": {\"Product_name\": \"Shoes\", \"Product_category\": \"Fashion\", \"Product_price\": 2500, \"Product_quantity\": \"500\", \"Product_discount\": \"5%\"}, \"10028\": {\"Product_name\": \"Watch\", \"Product_category\": \"Fashion\", \"Product_price\": 2500, \"Product_quantity\": \"500\", \"Product_discount\": \"5%\"}, \"10029\": {\"Product_name\": \"Jewellery\", \"Product_category\": \"Fashion\", \"Product_price\": 500, \"Product_quantity\": \"500\", \"Product_discount\": \"5%\"}, \"10030\": {\"Product_name\": \"Innerwear\", \"Product_category\": \"Fashion\", \"Product_price\": 300, \"Product_quantity\": \"500\", \"Product_discount\": \"5%\"}}\n"
     ]
    }
   ],
   "source": [
    "fd = open('inventory.json', 'r')\n",
    "read = fd.read()\n",
    "print(read)\n",
    "fd.close()"
   ]
  },
  {
   "cell_type": "code",
   "execution_count": 30,
   "id": "3356b259",
   "metadata": {},
   "outputs": [],
   "source": [
    "inventory = json.loads(read)"
   ]
  },
  {
   "cell_type": "markdown",
   "id": "17194f8e",
   "metadata": {},
   "source": [
    "# User"
   ]
  },
  {
   "cell_type": "code",
   "execution_count": 31,
   "id": "6b8eea57",
   "metadata": {},
   "outputs": [
    {
     "name": "stdout",
     "output_type": "stream",
     "text": [
      "Enter the Product number: 1000\n",
      "Quantity required: 10\n",
      "************************************************************ \n",
      "\n",
      "BILL -\n",
      "Name:  ['Product_name']\n",
      "Category:  Furniture\n",
      "Quantity:  10\n",
      "Price for single piece:  7000\n",
      "MRP:  70000\n",
      "MN-Mart price with 5% discount: 66500\n",
      "************************************************************ \n",
      "\n",
      "Total amount:  Rs 66500 /-\n"
     ]
    }
   ],
   "source": [
    "product = str(input(\"Enter the Product number: \"))\n",
    "quantity = input('Quantity required: ')\n",
    "\n",
    "actual = int(quantity)* int(inventory[product]['Product_price'])\n",
    "after_discount = int(float(quantity) * float(int(inventory[product]['Product_price']) - (5/100 * int(inventory[product]['Product_price']))))\n",
    "\n",
    "print('************************************************************', '\\n')\n",
    "print('BILL -')\n",
    "print('Name: ', ['Product_name'])\n",
    "print('Category: ', inventory[product]['Product_category'])\n",
    "print('Quantity: ', quantity)\n",
    "print('Price for single piece: ', inventory[product]['Product_price'])\n",
    "print('MRP: ', actual)\n",
    "print('MN-Mart price with 5% discount:', after_discount)\n",
    "print('************************************************************', '\\n')\n",
    "print('Total amount: ', 'Rs', after_discount,'/-')\n",
    "\n",
    "inventory[product]['Product_quantity'] = str(int(inventory[product]['Product_quantity']) - int(quantity))"
   ]
  },
  {
   "cell_type": "code",
   "execution_count": 32,
   "id": "db7021c4",
   "metadata": {},
   "outputs": [],
   "source": [
    "js = json.dumps(inventory)\n",
    "fd = open('inventory.json', 'w')\n",
    "fd.write(js)\n",
    "fd.close()"
   ]
  },
  {
   "cell_type": "code",
   "execution_count": 34,
   "id": "918c2e7a",
   "metadata": {},
   "outputs": [
    {
     "data": {
      "text/plain": [
       "'{\"1000\": {\"Product_name\": \"Bed\", \"Product_category\": \"Furniture\", \"Product_price\": 7000, \"Product_quantity\": \"490\", \"Product_discount\": \"5%\"}, \"1001\": {\"Product_name\": \"Dining Set\", \"Product_category\": \"Furniture\", \"Product_price\": 15000, \"Product_quantity\": \"500\", \"Product_discount\": \"5%\"}, \"1002\": {\"Product_name\": \"Sofa\", \"Product_category\": \"Furniture\", \"Product_price\": 16000, \"Product_quantity\": \"500\", \"Product_discount\": \"5%\"}, \"1003\": {\"Product_name\": \"Dressing Table\", \"Product_category\": \"Furniture\", \"Product_price\": 4000, \"Product_quantity\": \"500\", \"Product_discount\": \"5%\"}, \"1004\": {\"Product_name\": \"Wall Shelf\", \"Product_category\": \"Furniture\", \"Product_price\": 500, \"Product_quantity\": \"500\", \"Product_discount\": \"5%\"}, \"1005\": {\"Product_name\": \"Chair\", \"Product_category\": \"Furniture\", \"Product_price\": 600, \"Product_quantity\": \"500\", \"Product_discount\": \"5%\"}, \"1006\": {\"Product_name\": \"Lipstick\", \"Product_category\": \"Beauty\", \"Product_price\": 500, \"Product_quantity\": \"500\", \"Product_discount\": \"5%\"}, \"1007\": {\"Product_name\": \"Nail Lacquer\", \"Product_category\": \"Beauty\", \"Product_price\": 100, \"Product_quantity\": \"500\", \"Product_discount\": \"5%\"}, \"1008\": {\"Product_name\": \"Face Cream\", \"Product_category\": \"Beauty\", \"Product_price\": 600, \"Product_quantity\": \"500\", \"Product_discount\": \"5%\"}, \"1009\": {\"Product_name\": \"Eye Liner\", \"Product_category\": \"Beauty\", \"Product_price\": 250, \"Product_quantity\": \"500\", \"Product_discount\": \"5%\"}, \"10010\": {\"Product_name\": \"Concealer\", \"Product_category\": \"Beauty\", \"Product_price\": 300, \"Product_quantity\": \"500\", \"Product_discount\": \"5%\"}, \"10011\": {\"Product_name\": \"Football Helmet\", \"Product_category\": \"Sports\", \"Product_price\": 3000, \"Product_quantity\": \"500\", \"Product_discount\": \"5%\"}, \"10012\": {\"Product_name\": \"Elbow Pads\", \"Product_category\": \"Sports\", \"Product_price\": 200, \"Product_quantity\": \"500\", \"Product_discount\": \"5%\"}, \"10013\": {\"Product_name\": \"Mouthguards\", \"Product_category\": \"Sports\", \"Product_price\": 200, \"Product_quantity\": \"500\", \"Product_discount\": \"5%\"}, \"10014\": {\"Product_name\": \"Badminton Racquet\", \"Product_category\": \"Sports\", \"Product_price\": 2000, \"Product_quantity\": \"500\", \"Product_discount\": \"5%\"}, \"10015\": {\"Product_name\": \"Cricket Bat\", \"Product_category\": \"Sports\", \"Product_price\": 400, \"Product_quantity\": \"500\", \"Product_discount\": \"5%\"}, \"10016\": {\"Product_name\": \"Refrigerator\", \"Product_category\": \"Electronics\", \"Product_price\": 11000, \"Product_quantity\": \"500\", \"Product_discount\": \"5%\"}, \"10017\": {\"Product_name\": \"Air Conditioner\", \"Product_category\": \"Electronics\", \"Product_price\": 25000, \"Product_quantity\": \"500\", \"Product_discount\": \"5%\"}, \"10018\": {\"Product_name\": \"Washing Machine\", \"Product_category\": \"Electronics\", \"Product_price\": 10000, \"Product_quantity\": \"500\", \"Product_discount\": \"5%\"}, \"10019\": {\"Product_name\": \"Keyboard\", \"Product_category\": \"Electronics\", \"Product_price\": 600, \"Product_quantity\": \"500\", \"Product_discount\": \"5%\"}, \"10020\": {\"Product_name\": \"Earbuds\", \"Product_category\": \"Electronics\", \"Product_price\": 1500, \"Product_quantity\": \"500\", \"Product_discount\": \"5%\"}, \"10021\": {\"Product_name\": \"Dark Chocolate\", \"Product_category\": \"Grocery\", \"Product_price\": 200, \"Product_quantity\": \"500\", \"Product_discount\": \"5%\"}, \"10022\": {\"Product_name\": \"Peanut Butter\", \"Product_category\": \"Grocery\", \"Product_price\": 500, \"Product_quantity\": \"500\", \"Product_discount\": \"5%\"}, \"10023\": {\"Product_name\": \"Honey\", \"Product_category\": \"Grocery\", \"Product_price\": 500, \"Product_quantity\": \"500\", \"Product_discount\": \"5%\"}, \"10024\": {\"Product_name\": \"Biscuit\", \"Product_category\": \"Grocery\", \"Product_price\": 50, \"Product_quantity\": \"500\", \"Product_discount\": \"5%\"}, \"10025\": {\"Product_name\": \"Jackfruit Flour\", \"Product_category\": \"Grocery\", \"Product_price\": 400, \"Product_quantity\": \"500\", \"Product_discount\": \"5%\"}, \"10026\": {\"Product_name\": \"Jeans\", \"Product_category\": \"Fashion\", \"Product_price\": 1000, \"Product_quantity\": \"500\", \"Product_discount\": \"5%\"}, \"10027\": {\"Product_name\": \"Shoes\", \"Product_category\": \"Fashion\", \"Product_price\": 2500, \"Product_quantity\": \"500\", \"Product_discount\": \"5%\"}, \"10028\": {\"Product_name\": \"Watch\", \"Product_category\": \"Fashion\", \"Product_price\": 2500, \"Product_quantity\": \"500\", \"Product_discount\": \"5%\"}, \"10029\": {\"Product_name\": \"Jewellery\", \"Product_category\": \"Fashion\", \"Product_price\": 500, \"Product_quantity\": \"500\", \"Product_discount\": \"5%\"}, \"10030\": {\"Product_name\": \"Innerwear\", \"Product_category\": \"Fashion\", \"Product_price\": 300, \"Product_quantity\": \"500\", \"Product_discount\": \"5%\"}}'"
      ]
     },
     "execution_count": 34,
     "metadata": {},
     "output_type": "execute_result"
    }
   ],
   "source": [
    "js"
   ]
  },
  {
   "cell_type": "markdown",
   "id": "17bcc7e0",
   "metadata": {},
   "source": [
    "# Admin"
   ]
  },
  {
   "cell_type": "markdown",
   "id": "40014664",
   "metadata": {},
   "source": [
    "### Add products"
   ]
  },
  {
   "cell_type": "code",
   "execution_count": 18,
   "id": "1e8ef98e",
   "metadata": {},
   "outputs": [
    {
     "name": "stdout",
     "output_type": "stream",
     "text": [
      "Enter product id: 10035\n",
      "Enter product name: Soup\n",
      "Enter product category: Grocery\n",
      "Enter product price: 30\n",
      "Enter product quantity: 50\n"
     ]
    }
   ],
   "source": [
    "product_id = input('Enter product id: ')\n",
    "name = str(input('Enter product name: '))\n",
    "category = str(input('Enter product category: '))\n",
    "price = str(input('Enter product price: '))\n",
    "quantity = str(input('Enter product quantity: '))\n",
    "discount = '50%'\n",
    "\n",
    "inventory[product_id] = {'Product_name':name, 'Product_category':category, 'Product_price':price, 'Product_quantity':quantity, 'Product_discount':'5%'}\n",
    "\n",
    "js = json.dumps(inventory)\n",
    "\n",
    "fd = open('inventory.json', 'w')\n",
    "fd.write(js)\n",
    "fd.close()"
   ]
  },
  {
   "cell_type": "markdown",
   "id": "908300a1",
   "metadata": {},
   "source": [
    "### Remove products"
   ]
  },
  {
   "cell_type": "code",
   "execution_count": 21,
   "id": "8a4dd3f6",
   "metadata": {},
   "outputs": [
    {
     "name": "stdout",
     "output_type": "stream",
     "text": [
      "Product id of product to be deleted: 10035\n"
     ]
    }
   ],
   "source": [
    "remove = input('Product id of product to be deleted: ')\n",
    "\n",
    "del (inventory[remove])"
   ]
  },
  {
   "cell_type": "code",
   "execution_count": 23,
   "id": "4cedb9fd",
   "metadata": {
    "collapsed": true
   },
   "outputs": [
    {
     "data": {
      "text/plain": [
       "'{\"1000\": {\"Product_name\": \"Bed\", \"Product_category\": \"Furniture\", \"Product_price\": 7000, \"Product_quantity\": \"480\", \"Product_discount\": \"5%\"}, \"1001\": {\"Product_name\": \"Dining Set\", \"Product_category\": \"Furniture\", \"Product_price\": 15000, \"Product_quantity\": \"500\", \"Product_discount\": \"5%\"}, \"1002\": {\"Product_name\": \"Sofa\", \"Product_category\": \"Furniture\", \"Product_price\": 16000, \"Product_quantity\": \"500\", \"Product_discount\": \"5%\"}, \"1003\": {\"Product_name\": \"Dressing Table\", \"Product_category\": \"Furniture\", \"Product_price\": 4000, \"Product_quantity\": \"500\", \"Product_discount\": \"5%\"}, \"1004\": {\"Product_name\": \"Wall Shelf\", \"Product_category\": \"Furniture\", \"Product_price\": 500, \"Product_quantity\": \"500\", \"Product_discount\": \"5%\"}, \"1005\": {\"Product_name\": \"Chair\", \"Product_category\": \"Furniture\", \"Product_price\": 600, \"Product_quantity\": \"500\", \"Product_discount\": \"5%\"}, \"1006\": {\"Product_name\": \"Lipstick\", \"Product_category\": \"Beauty\", \"Product_price\": 500, \"Product_quantity\": \"500\", \"Product_discount\": \"5%\"}, \"1007\": {\"Product_name\": \"Nail Lacquer\", \"Product_category\": \"Beauty\", \"Product_price\": 100, \"Product_quantity\": \"500\", \"Product_discount\": \"5%\"}, \"1008\": {\"Product_name\": \"Face Cream\", \"Product_category\": \"Beauty\", \"Product_price\": 600, \"Product_quantity\": \"500\", \"Product_discount\": \"5%\"}, \"1009\": {\"Product_name\": \"Eye Liner\", \"Product_category\": \"Beauty\", \"Product_price\": 250, \"Product_quantity\": \"500\", \"Product_discount\": \"5%\"}, \"10010\": {\"Product_name\": \"Concealer\", \"Product_category\": \"Beauty\", \"Product_price\": 300, \"Product_quantity\": \"500\", \"Product_discount\": \"5%\"}, \"10011\": {\"Product_name\": \"Football Helmet\", \"Product_category\": \"Sports\", \"Product_price\": 3000, \"Product_quantity\": \"500\", \"Product_discount\": \"5%\"}, \"10012\": {\"Product_name\": \"Elbow Pads\", \"Product_category\": \"Sports\", \"Product_price\": 200, \"Product_quantity\": \"500\", \"Product_discount\": \"5%\"}, \"10013\": {\"Product_name\": \"Mouthguards\", \"Product_category\": \"Sports\", \"Product_price\": 200, \"Product_quantity\": \"500\", \"Product_discount\": \"5%\"}, \"10014\": {\"Product_name\": \"Badminton Racquet\", \"Product_category\": \"Sports\", \"Product_price\": 2000, \"Product_quantity\": \"500\", \"Product_discount\": \"5%\"}, \"10015\": {\"Product_name\": \"Cricket Bat\", \"Product_category\": \"Sports\", \"Product_price\": 400, \"Product_quantity\": \"500\", \"Product_discount\": \"5%\"}, \"10016\": {\"Product_name\": \"Refrigerator\", \"Product_category\": \"Electronics\", \"Product_price\": 11000, \"Product_quantity\": \"500\", \"Product_discount\": \"5%\"}, \"10017\": {\"Product_name\": \"Air Conditioner\", \"Product_category\": \"Electronics\", \"Product_price\": 25000, \"Product_quantity\": \"500\", \"Product_discount\": \"5%\"}, \"10018\": {\"Product_name\": \"Washing Machine\", \"Product_category\": \"Electronics\", \"Product_price\": 10000, \"Product_quantity\": \"500\", \"Product_discount\": \"5%\"}, \"10019\": {\"Product_name\": \"Keyboard\", \"Product_category\": \"Electronics\", \"Product_price\": 600, \"Product_quantity\": \"500\", \"Product_discount\": \"5%\"}, \"10020\": {\"Product_name\": \"Earbuds\", \"Product_category\": \"Electronics\", \"Product_price\": 1500, \"Product_quantity\": \"500\", \"Product_discount\": \"5%\"}, \"10021\": {\"Product_name\": \"Dark Chocolate\", \"Product_category\": \"Grocery\", \"Product_price\": 200, \"Product_quantity\": \"500\", \"Product_discount\": \"5%\"}, \"10022\": {\"Product_name\": \"Peanut Butter\", \"Product_category\": \"Grocery\", \"Product_price\": 500, \"Product_quantity\": \"500\", \"Product_discount\": \"5%\"}, \"10023\": {\"Product_name\": \"Honey\", \"Product_category\": \"Grocery\", \"Product_price\": 500, \"Product_quantity\": \"500\", \"Product_discount\": \"5%\"}, \"10024\": {\"Product_name\": \"Biscuit\", \"Product_category\": \"Grocery\", \"Product_price\": 50, \"Product_quantity\": \"500\", \"Product_discount\": \"5%\"}, \"10025\": {\"Product_name\": \"Jackfruit Flour\", \"Product_category\": \"Grocery\", \"Product_price\": 400, \"Product_quantity\": \"500\", \"Product_discount\": \"5%\"}, \"10026\": {\"Product_name\": \"Jeans\", \"Product_category\": \"Fashion\", \"Product_price\": 1000, \"Product_quantity\": \"500\", \"Product_discount\": \"5%\"}, \"10027\": {\"Product_name\": \"Shoes\", \"Product_category\": \"Fashion\", \"Product_price\": 2500, \"Product_quantity\": \"500\", \"Product_discount\": \"5%\"}, \"10028\": {\"Product_name\": \"Watch\", \"Product_category\": \"Fashion\", \"Product_price\": 2500, \"Product_quantity\": \"500\", \"Product_discount\": \"5%\"}, \"10029\": {\"Product_name\": \"Jewellery\", \"Product_category\": \"Fashion\", \"Product_price\": 500, \"Product_quantity\": \"500\", \"Product_discount\": \"5%\"}, \"10030\": {\"Product_name\": \"Innerwear\", \"Product_category\": \"Fashion\", \"Product_price\": 300, \"Product_quantity\": \"500\", \"Product_discount\": \"5%\"}, \"10035\": {\"Product_name\": \"Soup\", \"Product_category\": \"Grocery\", \"Product_price\": \"30\", \"Product_quantity\": \"50\", \"Product_discount\": \"5%\"}}'"
      ]
     },
     "execution_count": 23,
     "metadata": {},
     "output_type": "execute_result"
    }
   ],
   "source": [
    "js"
   ]
  }
 ],
 "metadata": {
  "kernelspec": {
   "display_name": "Python 3",
   "language": "python",
   "name": "python3"
  },
  "language_info": {
   "codemirror_mode": {
    "name": "ipython",
    "version": 3
   },
   "file_extension": ".py",
   "mimetype": "text/x-python",
   "name": "python",
   "nbconvert_exporter": "python",
   "pygments_lexer": "ipython3",
   "version": "3.8.8"
  }
 },
 "nbformat": 4,
 "nbformat_minor": 5
}
